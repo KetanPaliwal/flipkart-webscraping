{
 "cells": [
  {
   "cell_type": "markdown",
   "id": "af62e394",
   "metadata": {},
   "source": [
    "### Importing libraries"
   ]
  },
  {
   "cell_type": "code",
   "execution_count": 1,
   "id": "ac570eb8",
   "metadata": {},
   "outputs": [],
   "source": [
    "import numpy as np\n",
    "import pandas as pd\n",
    "\n",
    "import requests\n",
    "from bs4 import BeautifulSoup"
   ]
  },
  {
   "cell_type": "markdown",
   "id": "4f02394f",
   "metadata": {},
   "source": [
    "### Defining function to compile the scraped data into DataFrame"
   ]
  },
  {
   "cell_type": "code",
   "execution_count": 2,
   "id": "2e5bbf00",
   "metadata": {},
   "outputs": [],
   "source": [
    "df = False\n",
    "\n",
    "def add_to_df(data, sdisp=False):\n",
    "    \n",
    "    global df\n",
    "    if type(df)==type(False):\n",
    "        df = pd.DataFrame(data)\n",
    "    else:\n",
    "        df = df.append(pd.DataFrame(data), ignore_index=True)\n",
    "    \n",
    "    if(sdisp):\n",
    "        print('Current DataFrame Size :', len(df))"
   ]
  },
  {
   "cell_type": "markdown",
   "id": "c4c2e691",
   "metadata": {},
   "source": [
    "### Scraping each product's data\n",
    "\n",
    "Note that I have scraped only the basic data from the website.\n",
    "\n",
    "After making a few changes to the function below we can scrape other useful data as required or we can experiment with the current scraping process."
   ]
  },
  {
   "cell_type": "code",
   "execution_count": 3,
   "id": "dcac1ad9",
   "metadata": {},
   "outputs": [],
   "source": [
    "def scrape_products(items):\n",
    "\n",
    "    ad = [] # has product paid for advertisement\n",
    "    link = [] # product direct link\n",
    "    seller = [] # product seller\n",
    "    fassured = [] # is product Flipkart Assured\n",
    "    name = [] # name of product\n",
    "    price = [] # selling price of product\n",
    "    slashedprice = [] # previous price of product used to display discount\n",
    "    discount = [] # discount% on product\n",
    "\n",
    "    for i in items:\n",
    "\n",
    "        try:\n",
    "            i.find('div', class_='_2I5qvP').text\n",
    "            ad.append(1)\n",
    "        except:\n",
    "            ad.append(0)\n",
    "\n",
    "        link.append('https://www.flipkart.com'+i.find('a')['href'])\n",
    "\n",
    "        seller.append(i.find('div', class_='_2WkVRV').text.strip())\n",
    "\n",
    "        try:\n",
    "            i.find('div', class_='_1a8UBa').text\n",
    "            fassured.append(1)\n",
    "        except:\n",
    "            fassured.append(0)\n",
    "\n",
    "        name.append(i.find('a', class_='IRpwTa').text.strip())\n",
    "\n",
    "        price.append(int(i.find('div', class_='_30jeq3').text.replace('₹','').replace(',','')))\n",
    "\n",
    "        try:\n",
    "            slashedprice.append(int(i.find('div', class_='_3I9_wc').text.replace('₹','').replace(',','')))\n",
    "            discount.append(int(i.find('div', class_='_3Ay6Sb').text.replace('% off','')))\n",
    "        except:\n",
    "            slashedprice.append(np.nan)\n",
    "            discount.append(np.nan)\n",
    "\n",
    "    data = {'ad': ad, 'f_assured': fassured, 'seller': seller, 'name': name, 'price': price, 'slashed_price': slashedprice, 'discount_perc': discount, 'link': link}\n",
    "    \n",
    "    add_to_df(data, sdisp=True) # change sdisp to show/hide dataframe size update (hide by default)"
   ]
  },
  {
   "cell_type": "markdown",
   "id": "d0fba953",
   "metadata": {},
   "source": [
    "### Scraping the webpage to find all the product on given number of webpages\n",
    "\n",
    "Here we are going to scrape data of shoes present on flipkart.com. (see the url below)\n",
    "\n",
    "Note that currently we have 4X10 products in each webpage.\n",
    "\n",
    "This might change in future but will not affect the process of product scraping below.\n",
    "\n",
    "However, number of webpages to be scraped can be affected by such changes and should be checked for maximum pages present to be scraped."
   ]
  },
  {
   "cell_type": "code",
   "execution_count": 4,
   "id": "e9e7cc50",
   "metadata": {},
   "outputs": [
    {
     "name": "stdout",
     "output_type": "stream",
     "text": [
      "Current DataFrame Size : 40\n",
      "Current DataFrame Size : 80\n"
     ]
    }
   ],
   "source": [
    "pages = 2 # number of pages to scrape\n",
    "headers = {} # not required here\n",
    "\n",
    "for i in range(pages):\n",
    "    \n",
    "    url = 'https://www.flipkart.com/search?q=shoes&page='+str(i+1)\n",
    "\n",
    "    webpage = requests.get(url, headers=headers).text\n",
    "    soup = BeautifulSoup(webpage, 'lxml')\n",
    "    items = soup.find_all('div', class_='_1xHGtK _373qXS')\n",
    "    \n",
    "    # print('Products found on page', i, ':', len(items))\n",
    "    \n",
    "    scrape_products(items)"
   ]
  },
  {
   "cell_type": "markdown",
   "id": "38844782",
   "metadata": {},
   "source": [
    "### Final DataFrame"
   ]
  },
  {
   "cell_type": "code",
   "execution_count": 5,
   "id": "86848770",
   "metadata": {
    "scrolled": true
   },
   "outputs": [
    {
     "data": {
      "text/html": [
       "<div>\n",
       "<style scoped>\n",
       "    .dataframe tbody tr th:only-of-type {\n",
       "        vertical-align: middle;\n",
       "    }\n",
       "\n",
       "    .dataframe tbody tr th {\n",
       "        vertical-align: top;\n",
       "    }\n",
       "\n",
       "    .dataframe thead th {\n",
       "        text-align: right;\n",
       "    }\n",
       "</style>\n",
       "<table border=\"1\" class=\"dataframe\">\n",
       "  <thead>\n",
       "    <tr style=\"text-align: right;\">\n",
       "      <th></th>\n",
       "      <th>ad</th>\n",
       "      <th>f_assured</th>\n",
       "      <th>seller</th>\n",
       "      <th>name</th>\n",
       "      <th>price</th>\n",
       "      <th>slashed_price</th>\n",
       "      <th>discount_perc</th>\n",
       "      <th>link</th>\n",
       "    </tr>\n",
       "  </thead>\n",
       "  <tbody>\n",
       "    <tr>\n",
       "      <th>0</th>\n",
       "      <td>0</td>\n",
       "      <td>1</td>\n",
       "      <td>ASIAN</td>\n",
       "      <td>wndr-13 sports shoes for men | Latest Stylish ...</td>\n",
       "      <td>498</td>\n",
       "      <td>699</td>\n",
       "      <td>28</td>\n",
       "      <td>https://www.flipkart.com/asian-wndr-13-sports-...</td>\n",
       "    </tr>\n",
       "    <tr>\n",
       "      <th>1</th>\n",
       "      <td>0</td>\n",
       "      <td>1</td>\n",
       "      <td>ASIAN</td>\n",
       "      <td>Creta-12 sports shoes for men | Latest Stylish...</td>\n",
       "      <td>709</td>\n",
       "      <td>1299</td>\n",
       "      <td>45</td>\n",
       "      <td>https://www.flipkart.com/asian-creta-12-sports...</td>\n",
       "    </tr>\n",
       "    <tr>\n",
       "      <th>2</th>\n",
       "      <td>0</td>\n",
       "      <td>1</td>\n",
       "      <td>BRUTON</td>\n",
       "      <td>Trendy Men Sports Running Running Shoes For Men</td>\n",
       "      <td>299</td>\n",
       "      <td>1299</td>\n",
       "      <td>76</td>\n",
       "      <td>https://www.flipkart.com/bruton-trendy-men-spo...</td>\n",
       "    </tr>\n",
       "    <tr>\n",
       "      <th>3</th>\n",
       "      <td>0</td>\n",
       "      <td>1</td>\n",
       "      <td>ASIAN</td>\n",
       "      <td>Asian Plasma-08 sports shoes for men | Latest ...</td>\n",
       "      <td>599</td>\n",
       "      <td>1249</td>\n",
       "      <td>52</td>\n",
       "      <td>https://www.flipkart.com/asian-plasma-08-sport...</td>\n",
       "    </tr>\n",
       "    <tr>\n",
       "      <th>4</th>\n",
       "      <td>0</td>\n",
       "      <td>1</td>\n",
       "      <td>ASIAN</td>\n",
       "      <td>Plasma-08 sports shoes for men | Latest Stylis...</td>\n",
       "      <td>599</td>\n",
       "      <td>1249</td>\n",
       "      <td>52</td>\n",
       "      <td>https://www.flipkart.com/asian-plasma-08-sport...</td>\n",
       "    </tr>\n",
       "  </tbody>\n",
       "</table>\n",
       "</div>"
      ],
      "text/plain": [
       "   ad  f_assured  seller                                               name  \\\n",
       "0   0          1   ASIAN  wndr-13 sports shoes for men | Latest Stylish ...   \n",
       "1   0          1   ASIAN  Creta-12 sports shoes for men | Latest Stylish...   \n",
       "2   0          1  BRUTON    Trendy Men Sports Running Running Shoes For Men   \n",
       "3   0          1   ASIAN  Asian Plasma-08 sports shoes for men | Latest ...   \n",
       "4   0          1   ASIAN  Plasma-08 sports shoes for men | Latest Stylis...   \n",
       "\n",
       "   price  slashed_price  discount_perc  \\\n",
       "0    498            699             28   \n",
       "1    709           1299             45   \n",
       "2    299           1299             76   \n",
       "3    599           1249             52   \n",
       "4    599           1249             52   \n",
       "\n",
       "                                                link  \n",
       "0  https://www.flipkart.com/asian-wndr-13-sports-...  \n",
       "1  https://www.flipkart.com/asian-creta-12-sports...  \n",
       "2  https://www.flipkart.com/bruton-trendy-men-spo...  \n",
       "3  https://www.flipkart.com/asian-plasma-08-sport...  \n",
       "4  https://www.flipkart.com/asian-plasma-08-sport...  "
      ]
     },
     "execution_count": 5,
     "metadata": {},
     "output_type": "execute_result"
    }
   ],
   "source": [
    "df.head()"
   ]
  },
  {
   "cell_type": "markdown",
   "id": "70ae2248",
   "metadata": {},
   "source": [
    "### Finally storing the scraped data in a csv file"
   ]
  },
  {
   "cell_type": "code",
   "execution_count": 6,
   "id": "157596ad",
   "metadata": {},
   "outputs": [],
   "source": [
    "df.to_csv('scraped_data.csv')"
   ]
  }
 ],
 "metadata": {
  "kernelspec": {
   "display_name": "Python 3 (ipykernel)",
   "language": "python",
   "name": "python3"
  },
  "language_info": {
   "codemirror_mode": {
    "name": "ipython",
    "version": 3
   },
   "file_extension": ".py",
   "mimetype": "text/x-python",
   "name": "python",
   "nbconvert_exporter": "python",
   "pygments_lexer": "ipython3",
   "version": "3.9.7"
  }
 },
 "nbformat": 4,
 "nbformat_minor": 5
}
